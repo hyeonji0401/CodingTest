{
  "nbformat": 4,
  "nbformat_minor": 0,
  "metadata": {
    "colab": {
      "provenance": [],
      "gpuType": "T4",
      "authorship_tag": "ABX9TyOY7BFRgDcmIVoZC6mtCyee",
      "include_colab_link": true
    },
    "kernelspec": {
      "name": "python3",
      "display_name": "Python 3"
    },
    "language_info": {
      "name": "python"
    },
    "accelerator": "GPU"
  },
  "cells": [
    {
      "cell_type": "markdown",
      "metadata": {
        "id": "view-in-github",
        "colab_type": "text"
      },
      "source": [
        "<a href=\"https://colab.research.google.com/github/hyeonji0401/CodingTest/blob/main/cudaMalloc.ipynb\" target=\"_parent\"><img src=\"https://colab.research.google.com/assets/colab-badge.svg\" alt=\"Open In Colab\"/></a>"
      ]
    },
    {
      "cell_type": "markdown",
      "source": [
        "# 3.1 CUDA 프로그램의 구조 및 흐름\n",
        "호스트 코드가 반드시 필요한 이유\n",
        "\n",
        "> CPU가 운영체제와 같은 컴퓨터 시스템의 기본 연산 장치이며, GPU와 같은 다른 연산 장치를 사용하기 위해서는 호스트 코드에서 커널을 호출해야 하기 때문임\n",
        "\n",
        "* CPU와 GPU는 서로 독립된 장치로 사용하는 메모리 영역이 다름\n",
        "* GPU는 디바이스 메모리를 사용하지만 모든 데이터는 기본적으로 호스트 메모리에 저장되어있음\n",
        "\n",
        "=> GPU를 이용해서 데이터를 처리하기 위해서는 호스트 메모리에 있는 데이터를 디바이스 메모리로 복사해주어야함\n",
        "\n",
        "<CUDA 프로그램 흐름>\n",
        "1. 호스트 -> 디바이스 데이터 복사(GPU에서 처리할 데이터)\n",
        "2. GPU연산\n",
        "3. 디바이스 -> 호스트 데이터 복사(연산 결과 데이터)\n",
        "\n",
        "\n",
        "\n"
      ],
      "metadata": {
        "id": "89V3aBSfO-DX"
      }
    },
    {
      "cell_type": "markdown",
      "source": [
        "# 3.2 CUDA 기초 메모리 API\n",
        "\n",
        "**1. 디바이스 메모리 공간 할당 및 초기화**\n",
        "> 디바이스 메모리로 데이터를 복사하기 위해서는 메모리에 사용할 공간을 할당받아야함\n",
        "\n",
        "> 이는 C언어 malloc()함수와 동일함\n",
        "\n",
        "> 차이점은 C언어는 호스트 공간의 메모리를 할당하는 것이고 cudaMalloc()은 디바이스 메모리 공간을 할당받는 것임\n",
        "\n",
        "**디바이스 메모리 할당**\n",
        "* cudaMalloc()\n",
        "\n",
        "함수 원형\n",
        "\n",
        "\n",
        "```\n",
        "cudaError_t cudaMalloc(void **ptr, size_t size)\n",
        "```\n",
        "1. void **ptr\n",
        "- 디바이스 메모리 공간의 시작 주소를 담을 포인터 변수의 주소\n",
        "\n",
        "2. size_t size\n",
        "- 할당할 공간의 크기(byte 단위)\n",
        "\n",
        "3. 반환형\n",
        "- cudaError_t 열거형\n",
        "\n",
        "\n"
      ],
      "metadata": {
        "id": "krZ_OYoKQcPh"
      }
    },
    {
      "cell_type": "code",
      "source": [
        "%%cuda\n",
        "\n",
        "#include \"cuda_runtime.h\"\n",
        "#include \"device_launch_parameters.h\"\n",
        "\n",
        "int main(void)\n",
        "{\n",
        "    int *dDataPtr;\n",
        "    cudaMalloc(&dDataPtr, sizeof(int)*32);\n",
        "}\n"
      ],
      "metadata": {
        "colab": {
          "base_uri": "https://localhost:8080/"
        },
        "id": "PLkQnIahRp_S",
        "outputId": "c407ce84-3b3e-4e07-c996-0f3f05a39c46"
      },
      "execution_count": null,
      "outputs": [
        {
          "output_type": "stream",
          "name": "stdout",
          "text": [
            "\n"
          ]
        }
      ]
    },
    {
      "cell_type": "markdown",
      "source": [
        "위의 코드는 디바이스 메모리 공간에 int형 데이터 32개를 담을 공간을 할당하는 예시임\n",
        "\n",
        "위에서 설명했던 것과 같이 &dDatePtr가 할당된 메모리 공간의 시작주소가 저장되는 포인터 변수가 되는 것\n",
        "\n",
        "* 주의할 점 : dDatePtr이 가리키는 주소는 디바이스 메모리 주소이므로 호스트 코드에서 직접 접근할 수 없다\n",
        "\n",
        "그래서 만약\n"
      ],
      "metadata": {
        "id": "_KJXeHvgShfl"
      }
    },
    {
      "cell_type": "code",
      "source": [
        "%%cuda\n",
        "\n",
        "#include \"cuda_runtime.h\"\n",
        "#include \"device_launch_parameters.h\"\n",
        "#include <stdio.h>\n",
        "\n",
        "int main(void)\n",
        "{\n",
        "    int *dDataPtr;\n",
        "    cudaMalloc(&dDataPtr, sizeof(int)*32);\n",
        "    printf(\"%d\", dDataPtr[0]);\n",
        "    cudaFree(dDataPtr);\n",
        "    return 0;\n",
        "}\n"
      ],
      "metadata": {
        "colab": {
          "base_uri": "https://localhost:8080/"
        },
        "id": "OAQrl_oFTTql",
        "outputId": "59d262ca-9f02-4231-fe95-f9c0a5163a28"
      },
      "execution_count": null,
      "outputs": [
        {
          "output_type": "stream",
          "name": "stdout",
          "text": [
            "\n"
          ]
        }
      ]
    },
    {
      "cell_type": "markdown",
      "source": [
        "이와 같이 데이터에 접근하면 실행 오류가 발생함\n",
        "\n",
        "**printf()는 CPU에서 작동하는 코드이기 때문임**\n",
        "\n",
        "\n",
        "\n",
        "> CUDA 프로그램에서는 호스트 메모리 영역을 사용한느 변수와 디바이스 메모리 영역을 사용하는 변수를 구분하기 위해 일반적으로 디바이스 메모리 영역을 사용하는 변수의 이름 앞에 디바이스를 뜻하는 d를 붙여줌\n",
        "\n",
        "* cudaFree()는 할당된 메모리를 해제하는 함수"
      ],
      "metadata": {
        "id": "H8EoydjKUFVx"
      }
    },
    {
      "cell_type": "markdown",
      "source": [
        "**디바이스 메모리 해제**\n",
        "\n",
        "* cudaFree()\n",
        "\n",
        "함수 원형\n",
        "\n",
        "\n",
        "```\n",
        "cudaError_t cudaFree(void* ptr)\n",
        "```\n",
        "1.void *ptr\n",
        "- 해제할 메모리 공간을 가리키는 포인터 변수\n",
        "\n",
        "2. 반환형\n",
        "- cudaError_t 열거형"
      ],
      "metadata": {
        "id": "3ALm6QRUmsqG"
      }
    },
    {
      "cell_type": "markdown",
      "source": [
        "**디바이스 메모리 초기화**\n",
        "\n",
        "- cudaMemset()\n",
        "\n",
        "\n",
        "> cudaMalloc()을 통해 메모리 공간을 할당받으면 해당 메모리 공간에 남아있던 쓰레기 값이 그대로 남아있으므로 초기화 해줘야함\n",
        "\n",
        "함수 원형\n",
        "\n",
        "\n",
        "```\n",
        "cudaError_t cudaMemset(void *ptr, int value, size_t size)\n",
        "```\n",
        "\n",
        "1. void * ptr\n",
        "- 값을 초기화할 메모리 공간의 시작 주소\n",
        "\n",
        "2. int value\n",
        "- 각 바이트를 초기화할 값\n",
        "\n",
        "3. size_t size\n",
        "- 초기화할 메모리 공간의 크기\n"
      ],
      "metadata": {
        "id": "9knqSbmgq59i"
      }
    },
    {
      "cell_type": "markdown",
      "source": [
        "**에러 코드 확인**\n",
        "\n",
        "* cudaGetErrorName()\n",
        "\n",
        "\n",
        "> CUDA API의 반환값 대부분은 에러코드(cudaError_t 열거형)이며 에러코드의 수는 그만큼 많음\n",
        "\n",
        "> 각 에러코드 번호는 버전에 따라 변경될 수 있으며 모든 에러코드를 알 수는 없기 때문에 함수를 통해 에러의 종류를 확인하면 좋음\n",
        "\n",
        "함수 원형\n",
        "\n",
        "\n",
        "```\n",
        "__host__ __device__ const char* cudaGetErrorName(cudaError_t error)\n",
        "```\n",
        "\n",
        "원형 앞에 __host__ 와 __device__ 가 모두 붙어 있는데, 이는 호스트와 디바이스 코드 모두에서 사용가능함을 말함\n"
      ],
      "metadata": {
        "id": "7DvdaDGDrzzf"
      }
    },
    {
      "cell_type": "markdown",
      "source": [
        "**디바이스 메모리 할당/초기화/해제 예제**"
      ],
      "metadata": {
        "id": "Ym4t0cl1tQpr"
      }
    },
    {
      "cell_type": "code",
      "source": [
        "%%cuda\n",
        "\n",
        "#include \"cuda_runtime.h\"\n",
        "#include \"device_launch_parameters.h\"\n",
        "#include <stdio.h>\n",
        "\n",
        "void checkDeviceMemory(void)\n",
        "{\n",
        "    size_t free, total;\n",
        "    cudaMemGetInfo(&free, &total);\n",
        "    printf(\"Device memory (free/total) = %lld/%lld bytes\\n\", free, total);\n",
        "}\n",
        "\n",
        "int main(void)\n",
        "{\n",
        "    int* dDataPtr;\n",
        "    cudaError_t errorCode;\n",
        "\n",
        "    checkDeviceMemory();\n",
        "    errorCode = cudaMalloc(&dDataPtr, sizeof(int)*1024*1024);\n",
        "    printf(\"cudaMalloc - %s\\n\", cudaGetErrorName(errorCode)); //메모리 할당 전\n",
        "    checkDeviceMemory();\n",
        "\n",
        "    errorCode = cudaMemset(dDataPtr, 0, sizeof(int)*1024*1024); //메모리 할당 후 가용 메모리 크기가 4MB 감소됨\n",
        "    printf(\"cudaMalloc - %s\\n\", cudaGetErrorName(errorCode));\n",
        "\n",
        "    errorCode = cudaFree(dDataPtr);\n",
        "    printf(\"cudaFree - %s\\n\", cudaGetErrorName(errorCode)); //Free선언 후 다시 메모리 공간이 반환됨을 확인 할 수 있음\n",
        "    checkDeviceMemory();\n",
        "}"
      ],
      "metadata": {
        "colab": {
          "base_uri": "https://localhost:8080/"
        },
        "id": "2l6nCM74tUgW",
        "outputId": "74d4215c-e74d-4702-9d3c-eabc1efabf66"
      },
      "execution_count": null,
      "outputs": [
        {
          "output_type": "stream",
          "name": "stdout",
          "text": [
            "Device memory (free/total) = 15727656960/15835660288 bytes\n",
            "cudaMalloc - cudaSuccess\n",
            "Device memory (free/total) = 15723462656/15835660288 bytes\n",
            "cudaMalloc - cudaSuccess\n",
            "cudaFree - cudaSuccess\n",
            "Device memory (free/total) = 15727656960/15835660288 bytes\n",
            "\n"
          ]
        }
      ]
    },
    {
      "cell_type": "markdown",
      "source": [
        "cudaMalloc을 사용해서 int형 정수를 담을 수 있는 총 4MB의 공간을 할당하며, cudaMemset으로 모두 0으로 초기화하고 cudaFree로 메모리 공간을 해지하는 코드임\n",
        "\n",
        "\n",
        "**[checkDeviceMemory()]**\n",
        "\n",
        "디바이스 메모리의 총 크기와 현재 사용 가능한 공간의 크기를 반환해주는 함수로 cudaMemGetInfo()를 사용함\n",
        "\n",
        "free: 현재 가용 메모리 크기\n",
        "\n",
        "total: 사용하는 GPU가 가진 총 디바이스 메모리 크기\n",
        "\n",
        "> 사용하는 GPU보다 큰 메모리를 할당할 경우 에러 발생함"
      ],
      "metadata": {
        "id": "9zkyt80Uvlwm"
      }
    },
    {
      "cell_type": "markdown",
      "source": [
        "**2. 호스트 - 디바이스 메모리 데이터 복사**\n",
        "\n",
        "\n",
        "\n",
        "> 호스트 메모리와 디바이스 메모리는 서로 독립된 공간으로 다른 장치에 있는 데이터가 필요하다면 명시적인 데이터 복사 과정이 필요함\n",
        "\n",
        "**장치 간 데이터 복사**\n",
        "\n",
        "- cudaMemcpy()\n",
        "\n",
        "\n",
        "> CUDA 프로그램에서 장치 간 데이터 복사를 위해 사용하는 함수\n",
        "\n",
        "함수 원형\n",
        "\n",
        "\n",
        "```\n",
        "cudaError_t cudaMemcpy(void* dst, const void* src, size_t size, enum cudaMemcpyKind kind)\n",
        "```\n",
        "1. void* dist\n",
        "- 복사될 메모리 공간의 시작 주소를 담고 있는 포인터 변수\n",
        "\n",
        "2. const void* src\n",
        "- 복사할 원본 데이터가 들어있는 메모리 공간의 시작 주소를 담고 있는 포인터 변수\n",
        "\n",
        "3. size_t size\n",
        "- 복사할 데이터의 크기(바이트 단위)\n",
        "\n",
        "4. enum cudaMemcpyKind kind\n",
        "- cudaMemcpyKind의 열거형 변수로 데이터 복사의 방향을 설정하는 인자\n",
        "- 000ToXXX 형태로 000에서 XXX로 복사됨을 의미함\n",
        "- 이 방향은 함수의 첫번째, 두번째 인자의 방향과 일치해야함\n",
        "\n",
        "> cudaMemcpyDefault : dst와 src의 포인터 값에 의해 결정됨\n",
        "- 이 경우 CUDA런타임이 방향성을 판단해서 복사를 수행해줌\n",
        "- unified virtual addressing(호스트메모리와 디바이스 메모리를 하나의 공간처럼 가상화해줌)을 지원하는 시스템에서만 사용 가능\n",
        "- 이 방법보다는 명시적으로 지정하는 것이 더 권장됨\n",
        "\n",
        "\n",
        "\n"
      ],
      "metadata": {
        "id": "1PKSZ3ZP-H20"
      }
    }
  ]
}